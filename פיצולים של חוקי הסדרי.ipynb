{
 "cells": [
  {
   "cell_type": "markdown",
   "metadata": {},
   "source": [
    "## imports, constants, basic functions"
   ]
  },
  {
   "cell_type": "code",
   "execution_count": 22,
   "metadata": {},
   "outputs": [],
   "source": [
    "from os import environ\n",
    "import datetime, re\n",
    "from functools import partial\n",
    "from dataflows import (Flow, checkpoint, load, printer, \n",
    "                       update_resource, join, filter_rows, dump_to_path, set_type)\n",
    "from datapackage_pipelines_knesset.common_flow import load_knesset_data as _load_knesset_data\n",
    "from bill_dates import init_knessetdates, load_knessetdate_row, calc_knessetdates_range, to_date\n",
    "\n",
    "\n",
    "BILL_ID_COLUMN = 'מזהה ייחודי של הצעות חוק'\n",
    "USE_DATA = False\n",
    "\n",
    "\n",
    "if USE_DATA:\n",
    "    environ['KNESSET_PIPELINES_DATA_PATH'] = '../knesset-data-pipelines/data'\n",
    "    load_knesset_data = partial(_load_knesset_data, use_data=True)\n",
    "else:\n",
    "    load_knesset_data = _load_knesset_data\n",
    "\n",
    "\n",
    "def set_dates_any(package):\n",
    "    for resource in package.pkg.descriptor['resources']:\n",
    "        for field in resource['schema']['fields']:\n",
    "            if field['type'] == 'datetime' or field['type'] == 'date':\n",
    "                if field['format'].startswith('%'):\n",
    "                    field['format'] = 'any'\n",
    "    yield package.pkg\n",
    "    yield from package\n",
    "    "
   ]
  },
  {
   "cell_type": "markdown",
   "metadata": {},
   "source": [
    "## Load source data"
   ]
  },
  {
   "cell_type": "code",
   "execution_count": 32,
   "metadata": {},
   "outputs": [
    {
     "name": "stdout",
     "output_type": "stream",
     "text": [
      "loading from url: https://storage.googleapis.com/knesset-data-pipelines/data/knesset/kns_knessetdates/datapackage.json\n",
      "loading from url: https://storage.googleapis.com/knesset-data-pipelines/data/bills/kns_bill/datapackage.json\n",
      "loading from url: https://storage.googleapis.com/knesset-data-pipelines/data/bills/kns_billsplit/datapackage.json\n",
      "loading from url: https://storage.googleapis.com/knesset-data-pipelines/data/knesset/kns_status/datapackage.json\n",
      "loading from url: https://storage.googleapis.com/knesset-data-pipelines/data/committees/kns_committeesession/datapackage.json\n",
      "loading from url: https://storage.googleapis.com/knesset-data-pipelines/data/committees/kns_cmtsessionitem/datapackage.json\n",
      "loading from url: https://storage.googleapis.com/knesset-data-pipelines/data/plenum/kns_plenumsession/datapackage.json\n",
      "loading from url: https://storage.googleapis.com/knesset-data-pipelines/data/plenum/kns_plmsessionitem/datapackage.json\n",
      "loading from url: https://storage.googleapis.com/knesset-data-pipelines/data/bills/kns_bill/datapackage.json\n",
      "saving checkpoint to: .checkpoints/hesderim_bill_splits_source_data\n"
     ]
    },
    {
     "name": "stderr",
     "output_type": "stream",
     "text": [
      "DEBUG   :Starting new HTTPS connection (1): storage.googleapis.com:443\n",
      "DEBUG   :https://storage.googleapis.com:443 \"GET /knesset-data-pipelines/data/knesset/kns_knessetdates/datapackage.json HTTP/1.1\" 200 2037\n",
      "DEBUG   :Starting new HTTPS connection (1): storage.googleapis.com:443\n",
      "DEBUG   :https://storage.googleapis.com:443 \"GET /knesset-data-pipelines/data/knesset/kns_knessetdates/datapackage.json HTTP/1.1\" 200 2037\n",
      "DEBUG   :Starting new HTTPS connection (1): storage.googleapis.com:443\n",
      "DEBUG   :https://storage.googleapis.com:443 \"GET /knesset-data-pipelines/data/bills/kns_bill/datapackage.json HTTP/1.1\" 200 6234\n",
      "DEBUG   :Starting new HTTPS connection (1): storage.googleapis.com:443\n",
      "DEBUG   :https://storage.googleapis.com:443 \"GET /knesset-data-pipelines/data/bills/kns_bill/datapackage.json HTTP/1.1\" 200 6234\n",
      "DEBUG   :Starting new HTTPS connection (1): storage.googleapis.com:443\n",
      "DEBUG   :https://storage.googleapis.com:443 \"GET /knesset-data-pipelines/data/bills/kns_billsplit/datapackage.json HTTP/1.1\" 200 1838\n",
      "DEBUG   :Starting new HTTPS connection (1): storage.googleapis.com:443\n",
      "DEBUG   :https://storage.googleapis.com:443 \"GET /knesset-data-pipelines/data/bills/kns_billsplit/datapackage.json HTTP/1.1\" 200 1838\n",
      "DEBUG   :Starting new HTTPS connection (1): storage.googleapis.com:443\n",
      "DEBUG   :https://storage.googleapis.com:443 \"GET /knesset-data-pipelines/data/knesset/kns_status/datapackage.json HTTP/1.1\" 200 2086\n",
      "DEBUG   :Starting new HTTPS connection (1): storage.googleapis.com:443\n",
      "DEBUG   :https://storage.googleapis.com:443 \"GET /knesset-data-pipelines/data/knesset/kns_status/datapackage.json HTTP/1.1\" 200 2086\n",
      "DEBUG   :Starting new HTTPS connection (1): storage.googleapis.com:443\n",
      "DEBUG   :https://storage.googleapis.com:443 \"GET /knesset-data-pipelines/data/committees/kns_committeesession/datapackage.json HTTP/1.1\" 200 3751\n",
      "DEBUG   :Starting new HTTPS connection (1): storage.googleapis.com:443\n",
      "DEBUG   :https://storage.googleapis.com:443 \"GET /knesset-data-pipelines/data/committees/kns_committeesession/datapackage.json HTTP/1.1\" 200 3751\n",
      "DEBUG   :Starting new HTTPS connection (1): storage.googleapis.com:443\n",
      "DEBUG   :https://storage.googleapis.com:443 \"GET /knesset-data-pipelines/data/committees/kns_cmtsessionitem/datapackage.json HTTP/1.1\" 200 1921\n",
      "DEBUG   :Starting new HTTPS connection (1): storage.googleapis.com:443\n",
      "DEBUG   :https://storage.googleapis.com:443 \"GET /knesset-data-pipelines/data/committees/kns_cmtsessionitem/datapackage.json HTTP/1.1\" 200 1921\n",
      "DEBUG   :Starting new HTTPS connection (1): storage.googleapis.com:443\n",
      "DEBUG   :https://storage.googleapis.com:443 \"GET /knesset-data-pipelines/data/plenum/kns_plenumsession/datapackage.json HTTP/1.1\" 200 1961\n",
      "DEBUG   :Starting new HTTPS connection (1): storage.googleapis.com:443\n",
      "DEBUG   :https://storage.googleapis.com:443 \"GET /knesset-data-pipelines/data/plenum/kns_plenumsession/datapackage.json HTTP/1.1\" 200 1961\n",
      "DEBUG   :Starting new HTTPS connection (1): storage.googleapis.com:443\n",
      "DEBUG   :https://storage.googleapis.com:443 \"GET /knesset-data-pipelines/data/plenum/kns_plmsessionitem/datapackage.json HTTP/1.1\" 200 2284\n",
      "DEBUG   :Starting new HTTPS connection (1): storage.googleapis.com:443\n",
      "DEBUG   :https://storage.googleapis.com:443 \"GET /knesset-data-pipelines/data/plenum/kns_plmsessionitem/datapackage.json HTTP/1.1\" 200 2284\n",
      "DEBUG   :Starting new HTTPS connection (1): storage.googleapis.com:443\n",
      "DEBUG   :https://storage.googleapis.com:443 \"GET /knesset-data-pipelines/data/bills/kns_bill/datapackage.json HTTP/1.1\" 200 6234\n",
      "DEBUG   :Starting new HTTPS connection (1): storage.googleapis.com:443\n",
      "DEBUG   :https://storage.googleapis.com:443 \"GET /knesset-data-pipelines/data/bills/kns_bill/datapackage.json HTTP/1.1\" 200 6234\n",
      "DEBUG   :Starting new HTTPS connection (1): storage.googleapis.com:443\n",
      "DEBUG   :https://storage.googleapis.com:443 \"GET /knesset-data-pipelines/data/knesset/kns_knessetdates/kns_knessetdates.csv HTTP/1.1\" 200 14092\n",
      "DEBUG   :Starting new HTTPS connection (2): storage.googleapis.com:443\n",
      "DEBUG   :https://storage.googleapis.com:443 \"GET /knesset-data-pipelines/data/knesset/kns_knessetdates/kns_knessetdates.csv HTTP/1.1\" 200 14092\n",
      "DEBUG   :Starting new HTTPS connection (1): storage.googleapis.com:443\n",
      "DEBUG   :https://storage.googleapis.com:443 \"GET /knesset-data-pipelines/data/bills/kns_bill/kns_bill.csv HTTP/1.1\" 200 9261630\n",
      "DEBUG   :Starting new HTTPS connection (2): storage.googleapis.com:443\n",
      "DEBUG   :https://storage.googleapis.com:443 \"GET /knesset-data-pipelines/data/bills/kns_bill/kns_bill.csv HTTP/1.1\" 200 9261630\n",
      "DEBUG   :Starting new HTTPS connection (1): storage.googleapis.com:443\n",
      "DEBUG   :https://storage.googleapis.com:443 \"GET /knesset-data-pipelines/data/bills/kns_billsplit/kns_billsplit.csv HTTP/1.1\" 200 106183\n",
      "DEBUG   :Starting new HTTPS connection (2): storage.googleapis.com:443\n",
      "DEBUG   :https://storage.googleapis.com:443 \"GET /knesset-data-pipelines/data/bills/kns_billsplit/kns_billsplit.csv HTTP/1.1\" 200 106183\n",
      "DEBUG   :Starting new HTTPS connection (1): storage.googleapis.com:443\n",
      "DEBUG   :https://storage.googleapis.com:443 \"GET /knesset-data-pipelines/data/knesset/kns_status/kns_status.csv HTTP/1.1\" 200 6578\n",
      "DEBUG   :https://storage.googleapis.com:443 \"GET /knesset-data-pipelines/data/knesset/kns_status/kns_status.csv HTTP/1.1\" 200 6578\n",
      "DEBUG   :Starting new HTTPS connection (1): storage.googleapis.com:443\n",
      "DEBUG   :https://storage.googleapis.com:443 \"GET /knesset-data-pipelines/data/committees/kns_committeesession/kns_committeesession.csv HTTP/1.1\" 200 40621772\n",
      "DEBUG   :Starting new HTTPS connection (2): storage.googleapis.com:443\n",
      "DEBUG   :https://storage.googleapis.com:443 \"GET /knesset-data-pipelines/data/committees/kns_committeesession/kns_committeesession.csv HTTP/1.1\" 200 40621772\n",
      "DEBUG   :Starting new HTTPS connection (1): storage.googleapis.com:443\n",
      "DEBUG   :https://storage.googleapis.com:443 \"GET /knesset-data-pipelines/data/committees/kns_cmtsessionitem/kns_cmtsessionitem.csv HTTP/1.1\" 200 7422746\n",
      "DEBUG   :Starting new HTTPS connection (2): storage.googleapis.com:443\n",
      "DEBUG   :https://storage.googleapis.com:443 \"GET /knesset-data-pipelines/data/committees/kns_cmtsessionitem/kns_cmtsessionitem.csv HTTP/1.1\" 200 7422746\n",
      "DEBUG   :Starting new HTTPS connection (1): storage.googleapis.com:443\n",
      "DEBUG   :https://storage.googleapis.com:443 \"GET /knesset-data-pipelines/data/plenum/kns_plenumsession/kns_plenumsession.csv HTTP/1.1\" 200 1006345\n",
      "DEBUG   :Starting new HTTPS connection (2): storage.googleapis.com:443\n",
      "DEBUG   :https://storage.googleapis.com:443 \"GET /knesset-data-pipelines/data/plenum/kns_plenumsession/kns_plenumsession.csv HTTP/1.1\" 200 1006345\n",
      "DEBUG   :Starting new HTTPS connection (1): storage.googleapis.com:443\n",
      "DEBUG   :https://storage.googleapis.com:443 \"GET /knesset-data-pipelines/data/plenum/kns_plmsessionitem/kns_plmsessionitem.csv HTTP/1.1\" 200 18059964\n",
      "DEBUG   :Starting new HTTPS connection (2): storage.googleapis.com:443\n",
      "DEBUG   :https://storage.googleapis.com:443 \"GET /knesset-data-pipelines/data/plenum/kns_plmsessionitem/kns_plmsessionitem.csv HTTP/1.1\" 200 18059964\n",
      "DEBUG   :Starting new HTTPS connection (1): storage.googleapis.com:443\n",
      "DEBUG   :https://storage.googleapis.com:443 \"GET /knesset-data-pipelines/data/bills/kns_bill/kns_bill.csv HTTP/1.1\" 200 9261630\n",
      "DEBUG   :Starting new HTTPS connection (2): storage.googleapis.com:443\n",
      "DEBUG   :https://storage.googleapis.com:443 \"GET /knesset-data-pipelines/data/bills/kns_bill/kns_bill.csv HTTP/1.1\" 200 9261630\n"
     ]
    },
    {
     "name": "stdout",
     "output_type": "stream",
     "text": [
      "checkpoint saved: hesderim_bill_splits_source_data\n"
     ]
    },
    {
     "data": {
      "text/plain": [
       "{'count_of_rows': 261800,\n",
       " 'bytes': 77212249,\n",
       " 'hash': '91c306015f74492bf7707dc51089d970',\n",
       " 'dataset_name': None}"
      ]
     },
     "execution_count": 32,
     "metadata": {},
     "output_type": "execute_result"
    }
   ],
   "source": [
    "SOURCE_DATA_CHECKPOINT_NAME = 'hesderim_bill_splits_source_data'\n",
    "\n",
    "!{'rm -rf .checkpoints/%s' % SOURCE_DATA_CHECKPOINT_NAME}\n",
    "\n",
    "Flow(\n",
    "    load('טבלת חוקי הסדרים - 10.10.18 (1).csv', name='hesderim_bill_ids'),\n",
    "    load_knesset_data('knesset/kns_knessetdates/datapackage.json', resources=['kns_knessetdates']),\n",
    "    load_knesset_data('bills/kns_bill/datapackage.json', resources=['kns_bill']),\n",
    "    update_resource('kns_bill', name='kns_bill_0', path='kns_bill_0.csv'),\n",
    "    load_knesset_data('bills/kns_billsplit/datapackage.json', resources=['kns_billsplit']),\n",
    "    load_knesset_data('knesset/kns_status/datapackage.json', resources=['kns_status']),\n",
    "    load_knesset_data('committees/kns_committeesession/datapackage.json', resources=['kns_committeesession']),\n",
    "    load_knesset_data('committees/kns_cmtsessionitem/datapackage.json', resources=['kns_cmtsessionitem']),\n",
    "    filter_rows(equals=[{'ItemTypeID': 2}], resources=['kns_cmtsessionitem']),\n",
    "    load_knesset_data('plenum/kns_plenumsession/datapackage.json', resources=['kns_plenumsession']),\n",
    "    load_knesset_data('plenum/kns_plmsessionitem/datapackage.json', resources=['kns_plmsessionitem']),\n",
    "    filter_rows(equals=[{'ItemTypeID': 2}], resources=['kns_plmsessionitem']),\n",
    "    load_knesset_data('bills/kns_bill/datapackage.json', resources=['kns_bill']),\n",
    "    set_dates_any,\n",
    "    checkpoint(SOURCE_DATA_CHECKPOINT_NAME),\n",
    ").process()[1]"
   ]
  },
  {
   "cell_type": "markdown",
   "metadata": {},
   "source": [
    "## Join Hesderim data"
   ]
  },
  {
   "cell_type": "code",
   "execution_count": 33,
   "metadata": {},
   "outputs": [
    {
     "name": "stdout",
     "output_type": "stream",
     "text": [
      "saving checkpoint to: .checkpoints/hesderim_bill_splits_join_hesderim_data\n",
      "using checkpoint data from .checkpoints/hesderim_bill_splits_source_data\n",
      "checkpoint saved: hesderim_bill_splits_join_hesderim_data\n"
     ]
    },
    {
     "data": {
      "text/plain": [
       "{'count_of_rows': 43867,\n",
       " 'bytes': 9752281,\n",
       " 'hash': '8932f8883c48d4379f884ca94a5380c8',\n",
       " 'dataset_name': None}"
      ]
     },
     "execution_count": 33,
     "metadata": {},
     "output_type": "execute_result"
    }
   ],
   "source": [
    "def hesderim_bill_ids():\n",
    "    \n",
    "    def step(rows):\n",
    "        if rows.res.name == 'hesderim_bill_ids':\n",
    "            yield from ({'hesderim_bill_id': int(row[BILL_ID_COLUMN])}\n",
    "                        for row in rows)\n",
    "        else:\n",
    "            yield from rows\n",
    "    \n",
    "    return Flow(\n",
    "        step,\n",
    "        update_resource('hesderim_bill_ids', schema={'fields': [{'name': 'hesderim_bill_id', 'type': 'integer'}]})\n",
    "    )\n",
    "    \n",
    "    \n",
    "def hesderim_bill_splits():\n",
    "    hesderim_bill_ids = set()\n",
    "    \n",
    "    def step(rows):\n",
    "        if rows.res.name == 'hesderim_bill_ids':\n",
    "            for row in rows:\n",
    "                hesderim_bill_ids.add(row['hesderim_bill_id'])\n",
    "                yield row\n",
    "        elif rows.res.name == 'kns_billsplit':\n",
    "            for row in rows:\n",
    "                if row['MainBillID'] in hesderim_bill_ids:\n",
    "                    yield {'hesderim_bill_id': int(row['MainBillID']),\n",
    "                           'bill_id': int(row['SplitBillID'])}\n",
    "        else:\n",
    "            yield from rows\n",
    "    \n",
    "    return Flow(\n",
    "        step,\n",
    "        update_resource('kns_billsplit', name='hesderim_bill_splits', path='hesderim_bill_splits.csv',\n",
    "                        schema={'fields': [{'name': 'hesderim_bill_id', 'type': 'integer'},\n",
    "                                           {'name': 'bill_id', 'type': 'integer'}]})\n",
    "    )\n",
    "\n",
    "\n",
    "def hesderim_bills_committee_sessions():    \n",
    "    return Flow(\n",
    "        join(source_name='kns_committeesession', source_key=['CommitteeSessionID'], \n",
    "             target_name='kns_cmtsessionitem', target_key=['CommitteeSessionID'], \n",
    "             fields={'KnessetNum': {}, 'StartDate': {}, 'CommitteeID': {}}),\n",
    "        join(source_name='kns_status', source_key=['StatusID'], source_delete=False,\n",
    "             target_name='kns_cmtsessionitem', target_key=['StatusID'],\n",
    "             fields={'StatusDesc': {'name': 'Desc'}}),\n",
    "        join(source_name='hesderim_bill_splits', source_key=['bill_id'], source_delete=False,\n",
    "             target_name='kns_cmtsessionitem', target_key=['ItemID'],\n",
    "             fields={'hesderim_bill_id': {}}),\n",
    "        filter_rows(not_equals=[{'hesderim_bill_id': None}], resources=['kns_cmtsessionitem']),\n",
    "    )\n",
    "\n",
    "\n",
    "def hesderim_bills_plenum_sessions():\n",
    "    return Flow(\n",
    "        join(source_name='kns_plenumsession', source_key=['PlenumSessionID'], \n",
    "             target_name='kns_plmsessionitem', target_key=['PlenumSessionID'], \n",
    "             fields={'KnessetNum': {}, 'StartDate': {}}),\n",
    "        join(source_name='kns_status', source_key=['StatusID'], source_delete=False,\n",
    "             target_name='kns_plmsessionitem', target_key=['StatusID'],\n",
    "             fields={'StatusDesc': {'name': 'Desc'}}),\n",
    "        join(source_name='hesderim_bill_splits', source_key=['bill_id'], source_delete=False,\n",
    "             target_name='kns_plmsessionitem', target_key=['ItemID'],\n",
    "             fields={'hesderim_bill_id': {}}),\n",
    "        filter_rows(not_equals=[{'hesderim_bill_id': None}], resources=['kns_plmsessionitem']),\n",
    "    )\n",
    "\n",
    "\n",
    "def join_hesderim_kns_bill():\n",
    "    return Flow(\n",
    "        join(source_name='hesderim_bill_splits', source_key=['bill_id'], source_delete=False,\n",
    "             target_name='kns_bill', target_key=['BillID'],\n",
    "             fields={'hesderim_bill_id': {}}),\n",
    "        filter_rows(not_equals=[{'hesderim_bill_id': None}], resources=['kns_bill']),\n",
    "    )\n",
    "\n",
    "JOIN_HESDERIM_DATA_CHECKPOINT_NAME = 'hesderim_bill_splits_join_hesderim_data'\n",
    "\n",
    "!{'rm -rf .checkpoints/%s' % JOIN_HESDERIM_DATA_CHECKPOINT_NAME}\n",
    "\n",
    "Flow(\n",
    "    checkpoint(SOURCE_DATA_CHECKPOINT_NAME),\n",
    "    hesderim_bill_ids(),\n",
    "    hesderim_bill_splits(),\n",
    "    hesderim_bills_committee_sessions(),\n",
    "    hesderim_bills_plenum_sessions(),\n",
    "    join_hesderim_kns_bill(),\n",
    "    checkpoint(JOIN_HESDERIM_DATA_CHECKPOINT_NAME)\n",
    ").process()[1]\n"
   ]
  },
  {
   "cell_type": "code",
   "execution_count": null,
   "metadata": {},
   "outputs": [],
   "source": [
    "Flow(checkpoint(JOIN_HESDERIM_DATA_CHECKPOINT_NAME), printer(tablefmt='html', num_rows=1)).process()[1]"
   ]
  },
  {
   "cell_type": "markdown",
   "metadata": {},
   "source": [
    "## Process Sessions"
   ]
  },
  {
   "cell_type": "code",
   "execution_count": 36,
   "metadata": {},
   "outputs": [
    {
     "name": "stdout",
     "output_type": "stream",
     "text": [
      "loading from url: https://storage.googleapis.com/knesset-data-pipelines/data/plenum/kns_plenumsession/datapackage.json\n",
      "loading from url: https://storage.googleapis.com/knesset-data-pipelines/data/committees/kns_committee/datapackage.json\n",
      "saving checkpoint to: .checkpoints/hesderim_bill_splits_process_sessions_data\n",
      "using checkpoint data from .checkpoints/hesderim_bill_splits_join_hesderim_data\n"
     ]
    },
    {
     "name": "stderr",
     "output_type": "stream",
     "text": [
      "DEBUG   :Starting new HTTPS connection (1): storage.googleapis.com:443\n",
      "DEBUG   :https://storage.googleapis.com:443 \"GET /knesset-data-pipelines/data/plenum/kns_plenumsession/datapackage.json HTTP/1.1\" 200 1961\n",
      "DEBUG   :Starting new HTTPS connection (1): storage.googleapis.com:443\n",
      "DEBUG   :https://storage.googleapis.com:443 \"GET /knesset-data-pipelines/data/plenum/kns_plenumsession/datapackage.json HTTP/1.1\" 200 1961\n",
      "DEBUG   :Starting new HTTPS connection (1): storage.googleapis.com:443\n",
      "DEBUG   :https://storage.googleapis.com:443 \"GET /knesset-data-pipelines/data/committees/kns_committee/datapackage.json HTTP/1.1\" 200 3820\n",
      "DEBUG   :Starting new HTTPS connection (1): storage.googleapis.com:443\n",
      "DEBUG   :https://storage.googleapis.com:443 \"GET /knesset-data-pipelines/data/committees/kns_committee/datapackage.json HTTP/1.1\" 200 3820\n",
      "DEBUG   :Starting new HTTPS connection (1): storage.googleapis.com:443\n",
      "DEBUG   :https://storage.googleapis.com:443 \"GET /knesset-data-pipelines/data/plenum/kns_plenumsession/kns_plenumsession.csv HTTP/1.1\" 200 1006345\n",
      "DEBUG   :Starting new HTTPS connection (2): storage.googleapis.com:443\n",
      "DEBUG   :https://storage.googleapis.com:443 \"GET /knesset-data-pipelines/data/plenum/kns_plenumsession/kns_plenumsession.csv HTTP/1.1\" 200 1006345\n",
      "DEBUG   :Starting new HTTPS connection (1): storage.googleapis.com:443\n",
      "DEBUG   :https://storage.googleapis.com:443 \"GET /knesset-data-pipelines/data/committees/kns_committee/kns_committee.csv HTTP/1.1\" 200 171904\n",
      "DEBUG   :Starting new HTTPS connection (2): storage.googleapis.com:443\n",
      "DEBUG   :https://storage.googleapis.com:443 \"GET /knesset-data-pipelines/data/committees/kns_committee/kns_committee.csv HTTP/1.1\" 200 171904\n"
     ]
    },
    {
     "name": "stdout",
     "output_type": "stream",
     "text": [
      "checkpoint saved: hesderim_bill_splits_process_sessions_data\n"
     ]
    },
    {
     "data": {
      "text/plain": [
       "{'count_of_rows': 52899,\n",
       " 'bytes': 10971701,\n",
       " 'hash': '4d12f5ade0b6185a43d6491f65bbe8c1',\n",
       " 'dataset_name': None}"
      ]
     },
     "execution_count": 36,
     "metadata": {},
     "output_type": "execute_result"
    }
   ],
   "source": [
    "def get_plenum_session_start_date(plenum_session):\n",
    "    start_date = plenum_session['StartDate'].date()\n",
    "    if start_date < datetime.date(1947, 1, 1):\n",
    "        m = re.findall('([0-9]+)/([0-9]+)/([0-9]+)', plenum_session['Name'])\n",
    "        assert m, 'failed to find date for session {}'.format(plenum_session)\n",
    "        assert len(m) == 1\n",
    "        start_date = datetime.date(*map(int, reversed(m[0])))\n",
    "    return start_date\n",
    "\n",
    "def process_sessions(session_type):\n",
    "    input_resource_name = {'committee': 'kns_cmtsessionitem',\n",
    "                           'plenum': 'kns_plmsessionitem'}[session_type]\n",
    "    output_resource_name = f'bill_{session_type}_sessions'\n",
    "    first_session_field = f'{session_type}_first_session'\n",
    "    last_session_field = f'{session_type}_last_session'\n",
    "    num_sessions_field = f'{session_type}_num_sessions'\n",
    "    bill_sessions = {}\n",
    "    bill_hesderim_bill_id = {}\n",
    "    \n",
    "    if session_type == 'committee':\n",
    "        bill_relevant_committee = {}\n",
    "    elif session_type == 'plenum':\n",
    "        plenum_session_dates = {}\n",
    "        \n",
    "    def _process_bills(rows):\n",
    "        for row in rows:\n",
    "            if session_type == 'committee':\n",
    "                bill_relevant_committee[row['BillID']] = row['CommitteeID']\n",
    "            yield row\n",
    "    \n",
    "    def _process_plenum_session_dates(rows):\n",
    "        for row in rows:\n",
    "            plenum_session_dates[row['PlenumSessionID']] = get_plenum_session_start_date(row)\n",
    "            yield row\n",
    "    \n",
    "    def _process_sessions(rows):\n",
    "        for row in rows:\n",
    "            bill_sessions.setdefault(row['ItemID'], []).append(row)\n",
    "            bill_hesderim_bill_id[row['ItemID']] = row['hesderim_bill_id']\n",
    "            yield row\n",
    "    \n",
    "    def _get_bill_sessions():\n",
    "        for bill_id, sessions in bill_sessions.items():\n",
    "            sessions = list(sorted(sessions, key=lambda row: row['StartDate']))\n",
    "            if session_type == 'plenum':\n",
    "                sessions = [dict(row, StartDate=plenum_session_dates[row['PlenumSessionID']])\n",
    "                            for row in sessions]\n",
    "            row = {'bill_id': bill_id,\n",
    "                   'hesderim_bill_id': bill_hesderim_bill_id[bill_id],\n",
    "                   first_session_field: to_date(sessions[0]['StartDate']),\n",
    "                   last_session_field: to_date(sessions[-1]['StartDate']),\n",
    "                   num_sessions_field: len(sessions)}\n",
    "            if session_type == 'committee':\n",
    "                relevant_sessions = [s for s in sessions if s['CommitteeID'] == bill_relevant_committee[bill_id]]\n",
    "                if len(relevant_sessions) > 0:\n",
    "                    row.update(relevant_committee_first_session=to_date(relevant_sessions[0]['StartDate']),\n",
    "                               relevant_committee_last_session=to_date(relevant_sessions[-1]['StartDate']),\n",
    "                               relevant_committee_num_sessions=len(relevant_sessions))\n",
    "                else:\n",
    "                    row.update(relevant_committee_first_session=None,\n",
    "                               relevant_committee_last_session=None,\n",
    "                               relevant_committee_num_sessions=0)\n",
    "            yield row\n",
    "    \n",
    "    def step(package):\n",
    "        package.pkg.add_resource({'name': output_resource_name,\n",
    "                                  'path': f'{output_resource_name}_sessions.csv',\n",
    "                                  'schema': {'fields': [\n",
    "                                      {'name': 'bill_id', 'type': 'integer'},\n",
    "                                      {'name': 'hesderim_bill_id', 'type': 'integer'},\n",
    "                                      {'name': first_session_field, 'type': 'date'},\n",
    "                                      {'name': last_session_field, 'type': 'date'},\n",
    "                                      {'name': num_sessions_field, 'type': 'integer'},                                      \n",
    "                                  ] + ([{'name': 'relevant_committee_first_session', 'type': 'date'},\n",
    "                                        {'name': 'relevant_committee_last_session', 'type': 'date'},\n",
    "                                        {'name': 'relevant_committee_num_sessions', 'type': 'integer'},] if session_type == 'committee' else [])}})\n",
    "        yield package.pkg\n",
    "        for rows in package:\n",
    "            if rows.res.name == 'kns_bill_0':\n",
    "                yield _process_bills(rows)\n",
    "            elif session_type == 'plenum' and rows.res.name == 'kns_plenumsession':\n",
    "                yield _process_plenum_session_dates(rows)\n",
    "            elif rows.res.name == input_resource_name:\n",
    "                yield _process_sessions(rows)\n",
    "            else:\n",
    "                yield rows\n",
    "        yield _get_bill_sessions()\n",
    "\n",
    "    return step\n",
    "\n",
    "PROCESS_SESSIONS_CHECKPOINT_NAME = 'hesderim_bill_splits_process_sessions_data'\n",
    "\n",
    "!{'rm -rf .checkpoints/%s' % PROCESS_SESSIONS_CHECKPOINT_NAME}\n",
    "\n",
    "Flow(\n",
    "    checkpoint(JOIN_HESDERIM_DATA_CHECKPOINT_NAME),\n",
    "    load_knesset_data('plenum/kns_plenumsession/datapackage.json', resources=['kns_plenumsession']),\n",
    "    load_knesset_data('committees/kns_committee/datapackage.json'),\n",
    "    set_dates_any,\n",
    "    process_sessions('committee'),\n",
    "    process_sessions('plenum'),\n",
    "    checkpoint(PROCESS_SESSIONS_CHECKPOINT_NAME)\n",
    ").process()[1]"
   ]
  },
  {
   "cell_type": "code",
   "execution_count": 38,
   "metadata": {},
   "outputs": [
    {
     "name": "stdout",
     "output_type": "stream",
     "text": [
      "using checkpoint data from .checkpoints/hesderim_bill_splits_process_sessions_data\n"
     ]
    },
    {
     "data": {
      "text/html": [
       "<h3>bill_committee_sessions</h3>"
      ],
      "text/plain": [
       "<IPython.core.display.HTML object>"
      ]
     },
     "metadata": {},
     "output_type": "display_data"
    },
    {
     "data": {
      "text/html": [
       "<table>\n",
       "<thead>\n",
       "<tr><th>#  </th><th style=\"text-align: right;\">       bill_id\n",
       "(integer)</th><th style=\"text-align: right;\">       hesderim_bill_id\n",
       "(integer)</th><th>committee_first_session\n",
       "(date)           </th><th>committee_last_session\n",
       "(date)           </th><th style=\"text-align: right;\">  committee_num_sessions\n",
       "(integer)</th><th>relevant_committee_first_session\n",
       "(date)           </th><th>relevant_committee_last_session\n",
       "(date)           </th><th style=\"text-align: right;\">  relevant_committee_num_sessions\n",
       "(integer)</th></tr>\n",
       "</thead>\n",
       "<tbody>\n",
       "<tr><td>1  </td><td style=\"text-align: right;\"> 88727</td><td style=\"text-align: right;\"> 16633</td><td>2003-11-19</td><td>2003-12-22</td><td style=\"text-align: right;\">2</td><td>2003-11-19</td><td>2003-12-22</td><td style=\"text-align: right;\">2</td></tr>\n",
       "<tr><td>2  </td><td style=\"text-align: right;\"> 88732</td><td style=\"text-align: right;\"> 16633</td><td>2003-11-25</td><td>2003-12-23</td><td style=\"text-align: right;\">2</td><td>2003-11-25</td><td>2003-12-23</td><td style=\"text-align: right;\">2</td></tr>\n",
       "<tr><td>...</td><td style=\"text-align: right;\">      </td><td style=\"text-align: right;\">      </td><td>          </td><td>          </td><td style=\"text-align: right;\"> </td><td>          </td><td>          </td><td style=\"text-align: right;\"> </td></tr>\n",
       "<tr><td>220</td><td style=\"text-align: right;\">569078</td><td style=\"text-align: right;\">568878</td><td>2015-10-22</td><td>2015-10-22</td><td style=\"text-align: right;\">1</td><td>2015-10-22</td><td>2015-10-22</td><td style=\"text-align: right;\">1</td></tr>\n",
       "</tbody>\n",
       "</table>"
      ],
      "text/plain": [
       "<IPython.core.display.HTML object>"
      ]
     },
     "metadata": {},
     "output_type": "display_data"
    },
    {
     "data": {
      "text/html": [
       "<h3>bill_plenum_sessions</h3>"
      ],
      "text/plain": [
       "<IPython.core.display.HTML object>"
      ]
     },
     "metadata": {},
     "output_type": "display_data"
    },
    {
     "data": {
      "text/html": [
       "<table>\n",
       "<thead>\n",
       "<tr><th>#  </th><th style=\"text-align: right;\">       bill_id\n",
       "(integer)</th><th style=\"text-align: right;\">       hesderim_bill_id\n",
       "(integer)</th><th>plenum_first_session\n",
       "(date)           </th><th>plenum_last_session\n",
       "(date)           </th><th style=\"text-align: right;\">  plenum_num_sessions\n",
       "(integer)</th></tr>\n",
       "</thead>\n",
       "<tbody>\n",
       "<tr><td>1  </td><td style=\"text-align: right;\"> 88726</td><td style=\"text-align: right;\"> 16633</td><td>2003-11-05</td><td>2003-11-05</td><td style=\"text-align: right;\">1</td></tr>\n",
       "<tr><td>2  </td><td style=\"text-align: right;\"> 88727</td><td style=\"text-align: right;\"> 16633</td><td>2003-11-05</td><td>2003-11-05</td><td style=\"text-align: right;\">1</td></tr>\n",
       "<tr><td>...</td><td style=\"text-align: right;\">      </td><td style=\"text-align: right;\">      </td><td>          </td><td>          </td><td style=\"text-align: right;\"> </td></tr>\n",
       "<tr><td>52 </td><td style=\"text-align: right;\">569078</td><td style=\"text-align: right;\">568878</td><td>2015-11-23</td><td>2015-12-14</td><td style=\"text-align: right;\">3</td></tr>\n",
       "</tbody>\n",
       "</table>"
      ],
      "text/plain": [
       "<IPython.core.display.HTML object>"
      ]
     },
     "metadata": {},
     "output_type": "display_data"
    },
    {
     "data": {
      "text/plain": [
       "{}"
      ]
     },
     "execution_count": 38,
     "metadata": {},
     "output_type": "execute_result"
    }
   ],
   "source": [
    "Flow(checkpoint(PROCESS_SESSIONS_CHECKPOINT_NAME), \n",
    "     printer(tablefmt='html', num_rows=1, resources='bill_.*_sessions')).process()[1]"
   ]
  },
  {
   "cell_type": "markdown",
   "metadata": {},
   "source": [
    "## main flow"
   ]
  },
  {
   "cell_type": "code",
   "execution_count": 60,
   "metadata": {},
   "outputs": [
    {
     "data": {
      "text/html": [
       "<h3>bill_sessions</h3>"
      ],
      "text/plain": [
       "<IPython.core.display.HTML object>"
      ]
     },
     "metadata": {},
     "output_type": "display_data"
    },
    {
     "data": {
      "text/html": [
       "<table>\n",
       "<thead>\n",
       "<tr><th>#  </th><th style=\"text-align: right;\">       BillID\n",
       "(integer)</th><th style=\"text-align: right;\">   KnessetNum\n",
       "(integer)</th><th>Name\n",
       "(string)                                                                                                                                                                    </th><th style=\"text-align: right;\">   SubTypeID\n",
       "(integer)</th><th>SubTypeDesc\n",
       "(string)        </th><th>PrivateNumber\n",
       "(integer)  </th><th style=\"text-align: right;\">    CommitteeID\n",
       "(integer)</th><th style=\"text-align: right;\">    StatusID\n",
       "(integer)</th><th style=\"text-align: right;\">    Number\n",
       "(integer)</th><th>PostponementReasonID\n",
       "(integer)  </th><th>PostponementReasonDesc\n",
       "(string)  </th><th>PublicationDate\n",
       "(datetime)                          </th><th style=\"text-align: right;\">     MagazineNumber\n",
       "(integer)</th><th style=\"text-align: right;\">    PageNumber\n",
       "(integer)</th><th>IsContinuationBill\n",
       "(boolean)  </th><th>SummaryLaw\n",
       "(string)                                                                                                                                                                                                                                                                                                                                                                                                                                                                                                                                                                                                                                                                                                                                                                                                                                                                                             </th><th style=\"text-align: right;\">     PublicationSeriesID\n",
       "(integer)</th><th>PublicationSeriesDesc\n",
       "(string)           </th><th>PublicationSeriesFirstCall\n",
       "(string)  </th><th>LastUpdatedDate\n",
       "(datetime)                          </th><th style=\"text-align: right;\">       hesderim_bill_id\n",
       "(integer)</th><th>committee_first_session\n",
       "(date)           </th><th>committee_last_session\n",
       "(date)           </th><th style=\"text-align: right;\">  committee_num_sessions\n",
       "(integer)</th><th>relevant_committee_first_session\n",
       "(date)           </th><th>relevant_committee_last_session\n",
       "(date)           </th><th style=\"text-align: right;\">  relevant_committee_num_sessions\n",
       "(integer)</th><th>plenum_first_session\n",
       "(date)           </th><th>plenum_last_session\n",
       "(date)           </th><th style=\"text-align: right;\">  plenum_num_sessions\n",
       "(integer)</th><th>CommitteeName\n",
       "(string)                             </th><th style=\"text-align: right;\">   plenum_days_with_pagra\n",
       "(integer)</th><th style=\"text-align: right;\">   plenum_days_without_pagra\n",
       "(integer)</th><th style=\"text-align: right;\">   committee_days_with_pagra\n",
       "(integer)</th><th style=\"text-align: right;\">   committee_days_without_pagra\n",
       "(integer)</th><th style=\"text-align: right;\">   relevant_committee_days_with_pagra\n",
       "(integer)</th><th style=\"text-align: right;\">   relevant_committee_days_without_pagra\n",
       "(integer)</th><th>all_first_session\n",
       "(date)           </th><th>all_last_session\n",
       "(date)           </th><th style=\"text-align: right;\">   all_days_with_pagra\n",
       "(integer)</th><th style=\"text-align: right;\">   all_days_without_pagra\n",
       "(integer)</th></tr>\n",
       "</thead>\n",
       "<tbody>\n",
       "<tr><td>1  </td><td style=\"text-align: right;\">474507</td><td style=\"text-align: right;\">18</td><td>סעיף 2 (חוק מיסוי מקרקעין - הגדלת ההיצע של דירות מגורים - הוראת שעה) בהצעת חוק לצמצום הגירעון ולהתמודדות עם השפעות המשבר בכלכלה העולמית (תיקוני חקיקה), התשע\"ב-2012</td><td style=\"text-align: right;\">53</td><td>ממשלתית</td><td> </td><td style=\"text-align: right;\">653</td><td style=\"text-align: right;\">113</td><td style=\"text-align: right;\">723</td><td> </td><td> </td><td>                         </td><td style=\"text-align: right;\">    </td><td style=\"text-align: right;\">   </td><td> </td><td>                                                                                                                                                                                                                                                                                                                                                                                                                                                                                                                                                                                                                                                                                                                                                                                                                                                                                            </td><td style=\"text-align: right;\">    </td><td>          </td><td> </td><td>2013-05-23 18:38:01+00:00</td><td style=\"text-align: right;\">474392</td><td>          </td><td>          </td><td style=\"text-align: right;\"> </td><td>          </td><td>          </td><td style=\"text-align: right;\"> </td><td>          </td><td>          </td><td style=\"text-align: right;\"> </td><td>הכספים                      </td><td style=\"text-align: right;\">  </td><td style=\"text-align: right;\">  </td><td style=\"text-align: right;\">  </td><td style=\"text-align: right;\">  </td><td style=\"text-align: right;\">  </td><td style=\"text-align: right;\">  </td><td>          </td><td>          </td><td style=\"text-align: right;\"> 0</td><td style=\"text-align: right;\"> 0</td></tr>\n",
       "<tr><td>2  </td><td style=\"text-align: right;\"> 88726</td><td style=\"text-align: right;\">16</td><td>הצעת חוק המדיניות הכלכלית לשנת הכספים 2004 (תיקוני חקיקה), התשס\"ד-2003 (מיועדת רק לצורך חלוקת הצעת החוק)                                                           </td><td style=\"text-align: right;\">53</td><td>ממשלתית</td><td> </td><td style=\"text-align: right;\"> 23</td><td style=\"text-align: right;\">113</td><td style=\"text-align: right;\"> 64</td><td> </td><td> </td><td>                         </td><td style=\"text-align: right;\">    </td><td style=\"text-align: right;\">   </td><td> </td><td>                                                                                                                                                                                                                                                                                                                                                                                                                                                                                                                                                                                                                                                                                                                                                                                                                                                                                            </td><td style=\"text-align: right;\">    </td><td>          </td><td> </td><td>2013-05-23 18:38:01+00:00</td><td style=\"text-align: right;\"> 16633</td><td>2003-11-19</td><td>2003-12-01</td><td style=\"text-align: right;\">4</td><td>2003-11-19</td><td>2003-12-01</td><td style=\"text-align: right;\">4</td><td>2003-11-05</td><td>2003-11-05</td><td style=\"text-align: right;\">1</td><td>הכלכלה                      </td><td style=\"text-align: right;\"> 0</td><td style=\"text-align: right;\"> 0</td><td style=\"text-align: right;\">12</td><td style=\"text-align: right;\">12</td><td style=\"text-align: right;\">12</td><td style=\"text-align: right;\">12</td><td>2003-11-05</td><td>2003-12-01</td><td style=\"text-align: right;\">26</td><td style=\"text-align: right;\">26</td></tr>\n",
       "<tr><td>...</td><td style=\"text-align: right;\">      </td><td style=\"text-align: right;\">  </td><td>                                                                                                                                                                   </td><td style=\"text-align: right;\">  </td><td>       </td><td> </td><td style=\"text-align: right;\">   </td><td style=\"text-align: right;\">   </td><td style=\"text-align: right;\">   </td><td> </td><td> </td><td>                         </td><td style=\"text-align: right;\">    </td><td style=\"text-align: right;\">   </td><td> </td><td>                                                                                                                                                                                                                                                                                                                                                                                                                                                                                                                                                                                                                                                                                                                                                                                                                                                                                            </td><td style=\"text-align: right;\">    </td><td>          </td><td> </td><td>                         </td><td style=\"text-align: right;\">      </td><td>          </td><td>          </td><td style=\"text-align: right;\"> </td><td>          </td><td>          </td><td style=\"text-align: right;\"> </td><td>          </td><td>          </td><td style=\"text-align: right;\"> </td><td>                            </td><td style=\"text-align: right;\">  </td><td style=\"text-align: right;\">  </td><td style=\"text-align: right;\">  </td><td style=\"text-align: right;\">  </td><td style=\"text-align: right;\">  </td><td style=\"text-align: right;\">  </td><td>          </td><td>          </td><td style=\"text-align: right;\">  </td><td style=\"text-align: right;\">  </td></tr>\n",
       "<tr><td>234</td><td style=\"text-align: right;\">569078</td><td style=\"text-align: right;\">20</td><td>חוק לתיקון פקודת בריאות העם (מס' 29), התשע\"ו-2015                                                                                                                  </td><td style=\"text-align: right;\">53</td><td>ממשלתית</td><td> </td><td style=\"text-align: right;\">928</td><td style=\"text-align: right;\">118</td><td style=\"text-align: right;\">951</td><td> </td><td> </td><td>2015-12-23 00:00:00+00:00</td><td style=\"text-align: right;\">2516</td><td style=\"text-align: right;\">303</td><td> </td><td>שר הבריאות, בהסכמת שר האוצר ובאישור ועדת העבודה, הרווחה והבריאות של הכנסת, יקבע בתקנות כללים שיחולו על רופא, בין שכיר ובין עצמאי, שייעץ לאדם או טיפל בו במסגרת שירות מרפאה ציבורי או שירות מרפאה קהילתי, לעניין איסור המשך טיפול באותו אדם או ייעוץ לו שלא במימון ציבורי, במשך תקופה של בין ארבעה לשמונה חודשים, כפי שייקבע בתקנות. השר רשאי לקבוע בתקנות הקלות או הגבלות במקום האיסור האמור לעיל, אם מצא שניתן להסתפק בכך לשם מניעת ניגוד עניינים בין עבודתו של הרופא במסגרת שירות מרפאה ציבורי או שירות מרפאה קהילתי ובין עיסוקו כרופא שלא במימון ציבורי. שר הבריאות ידווח לוועדה פעמיים בשנה על יישומו של ההסדר המוצע ועל השלכותיו במשך שלוש שנים מיום חקיקתו. תקנות אלו יכול שיקבעו תחולה הדרגתית, לרבות בהתחשב במיקום גיאוגרפי, ובלבד שעד תום שלוש שנים מיום תחילתו של חוק זה יחולו התקנות באופן מלא על כלל הרופאים. שר הבריאות ושא האוצר רשאים להאריך, בצו, את התקופה האמורה בשנה אחת.</td><td style=\"text-align: right;\">6071</td><td>ספר החוקים</td><td> </td><td>2018-10-07 09:19:44+00:00</td><td style=\"text-align: right;\">568878</td><td>2015-10-22</td><td>2015-10-22</td><td style=\"text-align: right;\">1</td><td>2015-10-22</td><td>2015-10-22</td><td style=\"text-align: right;\">1</td><td>2015-11-23</td><td>2015-12-14</td><td style=\"text-align: right;\">3</td><td>ועדת העבודה, הרווחה והבריאות</td><td style=\"text-align: right;\">21</td><td style=\"text-align: right;\">21</td><td style=\"text-align: right;\"> 0</td><td style=\"text-align: right;\"> 0</td><td style=\"text-align: right;\"> 0</td><td style=\"text-align: right;\"> 0</td><td>2015-10-22</td><td>2015-12-14</td><td style=\"text-align: right;\">53</td><td style=\"text-align: right;\">53</td></tr>\n",
       "</tbody>\n",
       "</table>"
      ],
      "text/plain": [
       "<IPython.core.display.HTML object>"
      ]
     },
     "metadata": {},
     "output_type": "display_data"
    },
    {
     "data": {
      "text/plain": [
       "{'count_of_rows': 384,\n",
       " 'bytes': 131522,\n",
       " 'hash': '40f5dfa3c2b2d77d1436a568cd271dcb',\n",
       " 'dataset_name': None}"
      ]
     },
     "execution_count": 60,
     "metadata": {},
     "output_type": "execute_result"
    }
   ],
   "source": [
    "def process_session_date_ranges():\n",
    "    knessetdates = init_knessetdates()\n",
    "    \n",
    "    def process_kns_knessetdates(rows):\n",
    "        for row in rows:\n",
    "            yield row\n",
    "            load_knessetdate_row(knessetdates, row)\n",
    "        \n",
    "    def process_bill_sessions(rows):\n",
    "        for row in rows:\n",
    "            row['plenum_days_with_pagra'], row['plenum_days_without_pagra'] = calc_knessetdates_range(row, 'plenum_first_session', 'plenum_last_session', knessetdates)\n",
    "            row['committee_days_with_pagra'], row['committee_days_without_pagra'] = calc_knessetdates_range(row, 'committee_first_session', 'committee_last_session', knessetdates)\n",
    "            row['relevant_committee_days_with_pagra'], row['relevant_committee_days_without_pagra'] = calc_knessetdates_range(row, 'relevant_committee_first_session', 'relevant_committee_last_session', knessetdates)\n",
    "            all_sessions = []\n",
    "            for k in ['plenum_first_session', 'committee_first_session', 'plenum_last_session', 'committee_last_session']:\n",
    "                if row[k]:\n",
    "                    all_sessions.append(row[k])\n",
    "            all_sessions = list(sorted(all_sessions))\n",
    "            if len(all_sessions) > 0:\n",
    "                row['all_first_session'], row['all_last_session'] = all_sessions[0], all_sessions[-1]\n",
    "                row['all_days_with_pagra'], row['all_days_without_pagra'] = calc_knessetdates_range(row, 'all_first_session', 'all_last_session', knessetdates)\n",
    "            else:\n",
    "                row['all_first_session'], row['all_last_session'] = None, None\n",
    "                row['all_days_with_pagra'], row['all_days_without_pagra'] = 0, 0\n",
    "            yield row\n",
    "    \n",
    "    def process_rows(rows):\n",
    "        if rows.res.name == 'bill_sessions':\n",
    "            yield from process_bill_sessions(rows)\n",
    "        elif rows.res.name == 'kns_knessetdates':\n",
    "            yield from process_kns_knessetdates(rows)\n",
    "        else:\n",
    "            yield from rows\n",
    "            \n",
    "    def add_fields(package):\n",
    "        for resource in package.pkg.descriptor['resources']:\n",
    "            if resource['name'] == 'bill_sessions':\n",
    "                resource['schema']['fields'] += [{'name': k, 'type': v} for k, v in {\n",
    "                    'plenum_days_with_pagra': 'integer',\n",
    "                    'plenum_days_without_pagra': 'integer',\n",
    "                    'committee_days_with_pagra': 'integer',\n",
    "                    'committee_days_without_pagra': 'integer',\n",
    "                    'relevant_committee_days_with_pagra': 'integer',\n",
    "                    'relevant_committee_days_without_pagra': 'integer',\n",
    "                    'all_first_session': 'date',\n",
    "                    'all_last_session': 'date',\n",
    "                    'all_days_with_pagra': 'integer',\n",
    "                    'all_days_without_pagra': 'integer'\n",
    "                }.items()]\n",
    "        yield package.pkg\n",
    "        yield from package\n",
    "    \n",
    "    return Flow(\n",
    "        process_rows,\n",
    "        add_fields\n",
    "    )\n",
    "\n",
    "FINAL_BILL_SESSIONS_CHECKPOINT_NAME = 'hesderim_bill_splits_final_bill_sessions'\n",
    "\n",
    "!{'rm -rf .checkpoints/%s' % FINAL_BILL_SESSIONS_CHECKPOINT_NAME}\n",
    "\n",
    "Flow(\n",
    "    load(f'.checkpoints/{PROCESS_SESSIONS_CHECKPOINT_NAME}/datapackage.json', resources=['kns_committee', 'kns_knessetdates']),\n",
    "    load(f'.checkpoints/{PROCESS_SESSIONS_CHECKPOINT_NAME}/datapackage.json', resources=['bill_plenum_sessions']),\n",
    "    load(f'.checkpoints/{PROCESS_SESSIONS_CHECKPOINT_NAME}/datapackage.json', resources=['bill_committee_sessions']),\n",
    "    load(f'.checkpoints/{JOIN_HESDERIM_DATA_CHECKPOINT_NAME}/datapackage.json', resources=['kns_bill']),\n",
    "    update_resource('kns_bill', name='bill_sessions', path='bill_sessions.csv'),\n",
    "    join(source_name='bill_committee_sessions', source_key=['bill_id'],\n",
    "         target_name='bill_sessions', target_key=['BillID'],\n",
    "         fields={'committee_first_session': {}, \n",
    "                 'committee_last_session': {},\n",
    "                 'committee_num_sessions': {},\n",
    "                 'relevant_committee_first_session': {}, \n",
    "                 'relevant_committee_last_session': {},\n",
    "                 'relevant_committee_num_sessions': {}}),\n",
    "    join(source_name='bill_plenum_sessions', source_key=['bill_id'],\n",
    "         target_name='bill_sessions', target_key=['BillID'],\n",
    "         fields={'plenum_first_session': {}, \n",
    "                 'plenum_last_session': {},\n",
    "                 'plenum_num_sessions': {},}),\n",
    "    join(source_name='kns_committee', source_key=['CommitteeID'],\n",
    "         target_name='bill_sessions', target_key=['CommitteeID'],\n",
    "         fields={'CommitteeName': {'name': 'Name'}}),\n",
    "    process_session_date_ranges(),\n",
    "    printer(num_rows=1, tablefmt='html', resources=['bill_sessions']),\n",
    "    dump_to_path('data/hesderim_bill_splits')\n",
    ").process()[1]"
   ]
  },
  {
   "cell_type": "markdown",
   "metadata": {},
   "source": [
    "## Join to get full data including bills without any sessions"
   ]
  },
  {
   "cell_type": "code",
   "execution_count": null,
   "metadata": {},
   "outputs": [],
   "source": []
  },
  {
   "cell_type": "code",
   "execution_count": null,
   "metadata": {},
   "outputs": [],
   "source": []
  }
 ],
 "metadata": {
  "kernelspec": {
   "display_name": "Python 3",
   "language": "python",
   "name": "python3"
  },
  "language_info": {
   "codemirror_mode": {
    "name": "ipython",
    "version": 3
   },
   "file_extension": ".py",
   "mimetype": "text/x-python",
   "name": "python",
   "nbconvert_exporter": "python",
   "pygments_lexer": "ipython3",
   "version": "3.6.3"
  }
 },
 "nbformat": 4,
 "nbformat_minor": 2
}
